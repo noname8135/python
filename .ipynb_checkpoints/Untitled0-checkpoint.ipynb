{
 "metadata": {
  "name": "",
  "signature": "sha256:8dcbcb92290e90b62eb5c422ae4adcd8f43b8eb27cd7f93a58475c7d498400ef"
 },
 "nbformat": 3,
 "nbformat_minor": 0,
 "worksheets": []
}